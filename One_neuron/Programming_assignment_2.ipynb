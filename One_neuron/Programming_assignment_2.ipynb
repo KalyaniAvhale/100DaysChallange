{
 "cells": [
  {
   "cell_type": "markdown",
   "metadata": {},
   "source": [
    "# Programming Assignment : 2\n",
    "\n",
    "1.\tWrite a Python program to convert kilometers to miles?\n",
    "2.\tWrite a Python program to convert Celsius to Fahrenheit?\n",
    "3.\tWrite a Python program to display calendar?\n",
    "4.\tWrite a Python program to solve quadratic equation?\n",
    "5.\tWrite a Python program to swap two variables without temp variable?\n"
   ]
  },
  {
   "cell_type": "markdown",
   "metadata": {},
   "source": [
    "## Q1. Write a Python program to convert kilometers to miles?"
   ]
  },
  {
   "cell_type": "code",
   "execution_count": 4,
   "metadata": {},
   "outputs": [],
   "source": [
    "def kilometer_to_miles(kilometers):\n",
    "    '''Print kms to miles conversion value'''\n",
    "\n",
    "    # conversion factor : 1 kilometre is equal to 0.62137119 miles\n",
    "    conv_fac = 0.621371\n",
    "\n",
    "    # calculate miles\n",
    "    miles = kilometers * conv_fac\n",
    "    print('%0.2f kilometers is equal to %0.2f miles' %(kilometers,miles))"
   ]
  },
  {
   "cell_type": "code",
   "execution_count": 5,
   "metadata": {},
   "outputs": [
    {
     "name": "stdout",
     "output_type": "stream",
     "text": [
      "2.50 kilometers is equal to 1.55 miles\n"
     ]
    }
   ],
   "source": [
    "kilometer_to_miles(2.5)"
   ]
  },
  {
   "cell_type": "markdown",
   "metadata": {},
   "source": [
    "## Q2. Write a Python program to convert Celsius to Fahrenheit?"
   ]
  },
  {
   "cell_type": "code",
   "execution_count": 6,
   "metadata": {},
   "outputs": [],
   "source": [
    "def celsius_to_fahrenheit(celsius):\n",
    "    '''Print Celsius to Fahrenheit conversion value'''\n",
    "    \n",
    "    # calculate fahrenheit\n",
    "    fahrenheit = (celsius * 1.8) + 32\n",
    "    print('%0.1f degree Celsius is equal to %0.1f degree Fahrenheit' %(celsius,fahrenheit))\n"
   ]
  },
  {
   "cell_type": "code",
   "execution_count": 8,
   "metadata": {},
   "outputs": [
    {
     "name": "stdout",
     "output_type": "stream",
     "text": [
      "90.0 degree Celsius is equal to 194.0 degree Fahrenheit\n"
     ]
    }
   ],
   "source": [
    "celsius_to_fahrenheit(90)"
   ]
  },
  {
   "cell_type": "markdown",
   "metadata": {},
   "source": [
    "## Q3. Write a Python program to display calendar?"
   ]
  },
  {
   "cell_type": "code",
   "execution_count": 37,
   "metadata": {},
   "outputs": [],
   "source": [
    "#import module\n",
    "import calendar\n",
    "\n",
    "def display_calendar(yy,mm=0):\n",
    "    if mm == 0:\n",
    "        print(calendar.calendar(yy))\n",
    "    elif mm<0 or mm > 12:\n",
    "        print(\"Enter valid month!\")\n",
    "    else :\n",
    "        print(calendar.month(yy,mm))\n",
    "    "
   ]
  },
  {
   "cell_type": "code",
   "execution_count": 38,
   "metadata": {},
   "outputs": [
    {
     "name": "stdout",
     "output_type": "stream",
     "text": [
      "   September 2022\n",
      "Mo Tu We Th Fr Sa Su\n",
      "          1  2  3  4\n",
      " 5  6  7  8  9 10 11\n",
      "12 13 14 15 16 17 18\n",
      "19 20 21 22 23 24 25\n",
      "26 27 28 29 30\n",
      "\n"
     ]
    }
   ],
   "source": [
    "display_calendar(2022,9)"
   ]
  },
  {
   "cell_type": "code",
   "execution_count": 39,
   "metadata": {},
   "outputs": [
    {
     "name": "stdout",
     "output_type": "stream",
     "text": [
      "Enter valid month!\n"
     ]
    }
   ],
   "source": [
    "display_calendar(2022,-2)"
   ]
  },
  {
   "cell_type": "code",
   "execution_count": 40,
   "metadata": {},
   "outputs": [
    {
     "name": "stdout",
     "output_type": "stream",
     "text": [
      "Enter valid month!\n"
     ]
    }
   ],
   "source": [
    "display_calendar(2022,13)"
   ]
  },
  {
   "cell_type": "code",
   "execution_count": 34,
   "metadata": {},
   "outputs": [
    {
     "name": "stdout",
     "output_type": "stream",
     "text": [
      "                                                       2022\n",
      "\n",
      "             January                                 February                                 March\n",
      "Mon  Tue  Wed  Thu  Fri  Sat  Sun       Mon  Tue  Wed  Thu  Fri  Sat  Sun       Mon  Tue  Wed  Thu  Fri  Sat  Sun\n",
      "                           1    2              1    2    3    4    5    6              1    2    3    4    5    6\n",
      "  3    4    5    6    7    8    9         7    8    9   10   11   12   13         7    8    9   10   11   12   13\n",
      " 10   11   12   13   14   15   16        14   15   16   17   18   19   20        14   15   16   17   18   19   20\n",
      " 17   18   19   20   21   22   23        21   22   23   24   25   26   27        21   22   23   24   25   26   27\n",
      " 24   25   26   27   28   29   30        28                                      28   29   30   31\n",
      " 31\n",
      "\n",
      "              April                                    May                                     June\n",
      "Mon  Tue  Wed  Thu  Fri  Sat  Sun       Mon  Tue  Wed  Thu  Fri  Sat  Sun       Mon  Tue  Wed  Thu  Fri  Sat  Sun\n",
      "                      1    2    3                                       1                   1    2    3    4    5\n",
      "  4    5    6    7    8    9   10         2    3    4    5    6    7    8         6    7    8    9   10   11   12\n",
      " 11   12   13   14   15   16   17         9   10   11   12   13   14   15        13   14   15   16   17   18   19\n",
      " 18   19   20   21   22   23   24        16   17   18   19   20   21   22        20   21   22   23   24   25   26\n",
      " 25   26   27   28   29   30             23   24   25   26   27   28   29        27   28   29   30\n",
      "                                         30   31\n",
      "\n",
      "               July                                   August                                September\n",
      "Mon  Tue  Wed  Thu  Fri  Sat  Sun       Mon  Tue  Wed  Thu  Fri  Sat  Sun       Mon  Tue  Wed  Thu  Fri  Sat  Sun\n",
      "                      1    2    3         1    2    3    4    5    6    7                        1    2    3    4\n",
      "  4    5    6    7    8    9   10         8    9   10   11   12   13   14         5    6    7    8    9   10   11\n",
      " 11   12   13   14   15   16   17        15   16   17   18   19   20   21        12   13   14   15   16   17   18\n",
      " 18   19   20   21   22   23   24        22   23   24   25   26   27   28        19   20   21   22   23   24   25\n",
      " 25   26   27   28   29   30   31        29   30   31                            26   27   28   29   30\n",
      "\n",
      "             October                                 November                                December\n",
      "Mon  Tue  Wed  Thu  Fri  Sat  Sun       Mon  Tue  Wed  Thu  Fri  Sat  Sun       Mon  Tue  Wed  Thu  Fri  Sat  Sun\n",
      "                           1    2              1    2    3    4    5    6                        1    2    3    4\n",
      "  3    4    5    6    7    8    9         7    8    9   10   11   12   13         5    6    7    8    9   10   11\n",
      " 10   11   12   13   14   15   16        14   15   16   17   18   19   20        12   13   14   15   16   17   18\n",
      " 17   18   19   20   21   22   23        21   22   23   24   25   26   27        19   20   21   22   23   24   25\n",
      " 24   25   26   27   28   29   30        28   29   30                            26   27   28   29   30   31\n",
      " 31\n",
      "\n"
     ]
    }
   ],
   "source": [
    "display_calendar(2022)"
   ]
  },
  {
   "cell_type": "markdown",
   "metadata": {},
   "source": [
    "## Q4. Write a Python program to solve quadratic equation?"
   ]
  },
  {
   "cell_type": "markdown",
   "metadata": {},
   "source": [
    "`Quadratic equation : ax2 + bx + c\n",
    "where,\n",
    "a, b, and c are coefficient and real numbers and also a ≠ 0.\n",
    "If a is equal to 0 that equation is not valid quadratic equation.`"
   ]
  },
  {
   "cell_type": "code",
   "execution_count": 18,
   "metadata": {},
   "outputs": [],
   "source": [
    "import numpy as np\n",
    "\n",
    "def get_roots(a,b,c):\n",
    "    if a == 0:\n",
    "        print(\"invalid quadratic equation!\")\n",
    "    else:\n",
    "        roots = np.roots([a,b,c])\n",
    "        print(\"Roots are {0}\".format(roots))"
   ]
  },
  {
   "cell_type": "code",
   "execution_count": 19,
   "metadata": {},
   "outputs": [
    {
     "name": "stdout",
     "output_type": "stream",
     "text": [
      "Roots are [-1. -1.]\n"
     ]
    }
   ],
   "source": [
    "get_roots(1,2,1)"
   ]
  },
  {
   "cell_type": "code",
   "execution_count": 21,
   "metadata": {},
   "outputs": [
    {
     "name": "stdout",
     "output_type": "stream",
     "text": [
      "Roots are [-12.   2.]\n"
     ]
    }
   ],
   "source": [
    "get_roots(1,10,-24)"
   ]
  },
  {
   "cell_type": "code",
   "execution_count": 22,
   "metadata": {},
   "outputs": [
    {
     "name": "stdout",
     "output_type": "stream",
     "text": [
      "Roots are [-1.5+0.8660254j -1.5-0.8660254j]\n"
     ]
    }
   ],
   "source": [
    "get_roots(1,3,3)"
   ]
  },
  {
   "cell_type": "markdown",
   "metadata": {},
   "source": [
    "## Q5. Write a Python program to swap two variables without temp variable?"
   ]
  },
  {
   "cell_type": "code",
   "execution_count": 2,
   "metadata": {},
   "outputs": [],
   "source": [
    "def swap_nums(num1,num2):\n",
    "    '''return the swapped values of two variables '''\n",
    "    num1 , num2 = num2,num1\n",
    "    print(\"After Swapping :\")\n",
    "    print(\"num1 = {0} , num2 = {1}\".format(num1,num2))"
   ]
  },
  {
   "cell_type": "code",
   "execution_count": 3,
   "metadata": {},
   "outputs": [
    {
     "name": "stdout",
     "output_type": "stream",
     "text": [
      "Before Swapping :\n",
      "num1 = 10 , num2 = 20\n",
      "After Swapping :\n",
      "num1 = 20 , num2 = 10\n"
     ]
    }
   ],
   "source": [
    "num1 = 10\n",
    "num2 = 20\n",
    "\n",
    "print(\"Before Swapping :\")\n",
    "print(\"num1 = {0} , num2 = {1}\".format(num1,num2))\n",
    "\n",
    "swap_nums(num1,num2)"
   ]
  },
  {
   "cell_type": "code",
   "execution_count": null,
   "metadata": {},
   "outputs": [],
   "source": []
  }
 ],
 "metadata": {
  "kernelspec": {
   "display_name": "Python 3",
   "language": "python",
   "name": "python3"
  },
  "language_info": {
   "codemirror_mode": {
    "name": "ipython",
    "version": 3
   },
   "file_extension": ".py",
   "mimetype": "text/x-python",
   "name": "python",
   "nbconvert_exporter": "python",
   "pygments_lexer": "ipython3",
   "version": "3.8.3"
  }
 },
 "nbformat": 4,
 "nbformat_minor": 4
}
