{
 "cells": [
  {
   "cell_type": "markdown",
   "metadata": {},
   "source": [
    "# Programming Assignment : 1\n",
    "\n",
    "1.\tWrite a Python program to print \"Hello Python\"?\n",
    "2.\tWrite a Python program to do arithmetical operations addition and division.?\n",
    "3.\tWrite a Python program to find the area of a triangle?\n",
    "4.\tWrite a Python program to swap two variables?\n",
    "5.\tWrite a Python program to generate a random number?\n"
   ]
  },
  {
   "cell_type": "markdown",
   "metadata": {},
   "source": [
    "## Q1. Write a Python program to print \"Hello Python\"?"
   ]
  },
  {
   "cell_type": "code",
   "execution_count": 2,
   "metadata": {},
   "outputs": [
    {
     "name": "stdout",
     "output_type": "stream",
     "text": [
      "Hello Python\n"
     ]
    }
   ],
   "source": [
    "print(\"Hello Python\")"
   ]
  },
  {
   "cell_type": "markdown",
   "metadata": {},
   "source": [
    "## Q2. Write a Python program to do arithmetical operations addition and division.?"
   ]
  },
  {
   "cell_type": "code",
   "execution_count": 8,
   "metadata": {},
   "outputs": [],
   "source": [
    "def math_operations(num1,num2,op):\n",
    "    '''Return results for arthimetic operation. \n",
    "    Arguments can be float or integer and \n",
    "    opertaion can be addition or division'''\n",
    "    \n",
    "    print(\"Num_1 : {0}, Num_2 : {1} \".format(num1,num2))\n",
    "    if op == '+':\n",
    "        print(\"Addition Results : {}\".format(num1 + num2))\n",
    "    elif op == '/':\n",
    "        try:\n",
    "            print(\"Division Results : {}\".format(num1/num2))\n",
    "        except ZeroDivisionError:\n",
    "            print(\"Error division by zero!\")\n",
    "    else:\n",
    "        print(\"invalid operation\")\n"
   ]
  },
  {
   "cell_type": "code",
   "execution_count": 9,
   "metadata": {},
   "outputs": [
    {
     "name": "stdout",
     "output_type": "stream",
     "text": [
      "Num_1 : 3, Num_2 : 4 \n",
      "Addition Results : 7\n"
     ]
    }
   ],
   "source": [
    "math_operations(3,4,'+')"
   ]
  },
  {
   "cell_type": "code",
   "execution_count": 10,
   "metadata": {},
   "outputs": [
    {
     "name": "stdout",
     "output_type": "stream",
     "text": [
      "Num_1 : 14, Num_2 : 7 \n",
      "Division Results : 2.0\n"
     ]
    }
   ],
   "source": [
    "math_operations(14,7,'/')"
   ]
  },
  {
   "cell_type": "code",
   "execution_count": 11,
   "metadata": {},
   "outputs": [
    {
     "name": "stdout",
     "output_type": "stream",
     "text": [
      "Num_1 : 14, Num_2 : 7 \n",
      "invalid operation\n"
     ]
    }
   ],
   "source": [
    "math_operations(14,7,'.')"
   ]
  },
  {
   "cell_type": "code",
   "execution_count": 12,
   "metadata": {},
   "outputs": [
    {
     "name": "stdout",
     "output_type": "stream",
     "text": [
      "Num_1 : 14, Num_2 : 0 \n",
      "Error division by zero!\n"
     ]
    }
   ],
   "source": [
    "math_operations(14,0,'/')"
   ]
  },
  {
   "cell_type": "markdown",
   "metadata": {},
   "source": [
    "## Q3. Write a Python program to find the area of a triangle?"
   ]
  },
  {
   "cell_type": "code",
   "execution_count": 16,
   "metadata": {},
   "outputs": [],
   "source": [
    "def area_triangle(side1,side2,side3):\n",
    "    '''return area of triangle given three sides of triangle.\n",
    "    Arguments can be Integer or float values'''\n",
    "    try:\n",
    "        # calculate the semi-perimeter\n",
    "        s = (side1 + side2 + side3) / 2\n",
    "\n",
    "        # calculate the area\n",
    "        area = (s*(s-side1)*(s-side2)*(s-side3)) ** 0.5\n",
    "        return area\n",
    "    except TypeError:\n",
    "        print(\"Enter valid numbers!\")\n",
    "    \n",
    "    "
   ]
  },
  {
   "cell_type": "code",
   "execution_count": 17,
   "metadata": {},
   "outputs": [
    {
     "name": "stdout",
     "output_type": "stream",
     "text": [
      "Area of traingle : 14.696938456699069\n"
     ]
    }
   ],
   "source": [
    "print(\"Area of traingle : {}\".format(area_triangle(5,6,7)))"
   ]
  },
  {
   "cell_type": "code",
   "execution_count": 18,
   "metadata": {},
   "outputs": [
    {
     "name": "stdout",
     "output_type": "stream",
     "text": [
      "Enter valid numbers!\n",
      "Area of traingle : None\n"
     ]
    }
   ],
   "source": [
    "print(\"Area of traingle : {}\".format(area_triangle('5',6,7)))"
   ]
  },
  {
   "cell_type": "markdown",
   "metadata": {},
   "source": [
    "## Q4. Write a Python program to swap two variables?"
   ]
  },
  {
   "cell_type": "code",
   "execution_count": 19,
   "metadata": {},
   "outputs": [],
   "source": [
    "def swap_nums(num1,num2):\n",
    "    '''return the swapped values of two variables '''\n",
    "    num1 , num2 = num2,num1\n",
    "    print(\"After Swapping :\")\n",
    "    print(\"num1 = {0} , num2 = {1}\".format(num1,num2))"
   ]
  },
  {
   "cell_type": "code",
   "execution_count": 20,
   "metadata": {},
   "outputs": [
    {
     "name": "stdout",
     "output_type": "stream",
     "text": [
      "Before Swapping :\n",
      "num1 = 10 , num2 = 20\n",
      "After Swapping :\n",
      "num1 = 20 , num2 = 10\n"
     ]
    }
   ],
   "source": [
    "num1 = 10\n",
    "num2 = 20\n",
    "\n",
    "print(\"Before Swapping :\")\n",
    "print(\"num1 = {0} , num2 = {1}\".format(num1,num2))\n",
    "\n",
    "swap_nums(num1,num2)"
   ]
  },
  {
   "cell_type": "markdown",
   "metadata": {},
   "source": [
    "## Q5. Write a Python program to generate a random number?"
   ]
  },
  {
   "cell_type": "code",
   "execution_count": 23,
   "metadata": {},
   "outputs": [
    {
     "name": "stdout",
     "output_type": "stream",
     "text": [
      "28\n"
     ]
    }
   ],
   "source": [
    "from random import randint\n",
    "#print random number within 0 to 100 range   \n",
    "print(randint(0,100))"
   ]
  }
 ],
 "metadata": {
  "kernelspec": {
   "display_name": "Python 3",
   "language": "python",
   "name": "python3"
  },
  "language_info": {
   "codemirror_mode": {
    "name": "ipython",
    "version": 3
   },
   "file_extension": ".py",
   "mimetype": "text/x-python",
   "name": "python",
   "nbconvert_exporter": "python",
   "pygments_lexer": "ipython3",
   "version": "3.8.3"
  }
 },
 "nbformat": 4,
 "nbformat_minor": 4
}
