{
 "cells": [
  {
   "cell_type": "markdown",
   "metadata": {},
   "source": [
    "# Programming Assignment : 5\n",
    "\n",
    "1.\tWrite a Python Program to Find LCM?\n",
    "2.\tWrite a Python Program to Find HCF?\n",
    "3.\tWrite a Python Program to Convert Decimal to Binary, Octal and Hexadecimal?\n",
    "4.\tWrite a Python Program To Find ASCII value of a character?\n",
    "5.\tWrite a Python Program to Make a Simple Calculator with 4 basic mathematical operations?\n"
   ]
  },
  {
   "cell_type": "markdown",
   "metadata": {},
   "source": [
    "## Q1. Write a Python Program to Find LCM?"
   ]
  },
  {
   "cell_type": "code",
   "execution_count": 1,
   "metadata": {},
   "outputs": [],
   "source": [
    "def get_lcm(num1,num2):\n",
    "    '''Return LCM of given two numbers'''\n",
    "    if num1 > num2:\n",
    "        max = num1\n",
    "    else:\n",
    "        max = num2\n",
    "    \n",
    "    while(True):\n",
    "        if((max % num1 == 0) and (max % num2 == 0)):\n",
    "            lcm = max\n",
    "            break\n",
    "        max += 1\n",
    "    print(\"LCM (\" + str(num1) + \", \" + str(num2) + \") = \", lcm)\n"
   ]
  },
  {
   "cell_type": "code",
   "execution_count": 2,
   "metadata": {},
   "outputs": [
    {
     "name": "stdout",
     "output_type": "stream",
     "text": [
      "LCM (7, 56) =  56\n"
     ]
    }
   ],
   "source": [
    "get_lcm(7,56)"
   ]
  },
  {
   "cell_type": "code",
   "execution_count": 3,
   "metadata": {},
   "outputs": [
    {
     "name": "stdout",
     "output_type": "stream",
     "text": [
      "LCM (54, 24) =  216\n"
     ]
    }
   ],
   "source": [
    "get_lcm(54,24)"
   ]
  },
  {
   "cell_type": "markdown",
   "metadata": {},
   "source": [
    "## Q2. Write a Python Program to Find HCF?"
   ]
  },
  {
   "cell_type": "code",
   "execution_count": 4,
   "metadata": {},
   "outputs": [],
   "source": [
    "def get_hcf(num1,num2):\n",
    "    '''Return HCF of given two numbers'''\n",
    "    HCF = 1 \n",
    "    for i in range(2,num1+1):\n",
    "        if(num1 % i == 0 and num2 % i == 0):\n",
    "            HCF = i\n",
    "\n",
    "    print(\"HCF (\" + str(num1) + \", \" + str(num2) + \") = \", HCF)"
   ]
  },
  {
   "cell_type": "code",
   "execution_count": 5,
   "metadata": {},
   "outputs": [
    {
     "name": "stdout",
     "output_type": "stream",
     "text": [
      "HCF (12, 16) =  4\n"
     ]
    }
   ],
   "source": [
    "get_hcf(12,16)"
   ]
  },
  {
   "cell_type": "code",
   "execution_count": 6,
   "metadata": {},
   "outputs": [
    {
     "name": "stdout",
     "output_type": "stream",
     "text": [
      "HCF (7, 64) =  1\n"
     ]
    }
   ],
   "source": [
    "get_hcf(7,64)"
   ]
  },
  {
   "cell_type": "markdown",
   "metadata": {},
   "source": [
    "## Q3. Write a Python Program to Convert Decimal to Binary, Octal and Hexadecimal?"
   ]
  },
  {
   "cell_type": "code",
   "execution_count": 7,
   "metadata": {},
   "outputs": [],
   "source": [
    "def convert_num(decimal_num):\n",
    "    print(\"Given decimal number : \",decimal_num)\n",
    "    print(\"Equivalent Binary number: \",bin(decimal_num))\n",
    "    print(\"Equivalent Octal number: \",oct(decimal_num))\n",
    "    print(\"Equivalent Hexadecimal number: \",hex(decimal_num))"
   ]
  },
  {
   "cell_type": "code",
   "execution_count": 8,
   "metadata": {},
   "outputs": [
    {
     "name": "stdout",
     "output_type": "stream",
     "text": [
      "Given decimal number :  200\n",
      "Equivalent Binary number:  0b11001000\n",
      "Equivalent Octal number:  0o310\n",
      "Equivalent Hexadecimal number:  0xc8\n"
     ]
    }
   ],
   "source": [
    "convert_num(200)"
   ]
  },
  {
   "cell_type": "code",
   "execution_count": 9,
   "metadata": {},
   "outputs": [
    {
     "name": "stdout",
     "output_type": "stream",
     "text": [
      "Given decimal number :  344\n",
      "Equivalent Binary number:  0b101011000\n",
      "Equivalent Octal number:  0o530\n",
      "Equivalent Hexadecimal number:  0x158\n"
     ]
    }
   ],
   "source": [
    "convert_num(344)"
   ]
  },
  {
   "cell_type": "markdown",
   "metadata": {},
   "source": [
    "## Q4. Write a Python Program To Find ASCII value of a character?"
   ]
  },
  {
   "cell_type": "code",
   "execution_count": 10,
   "metadata": {},
   "outputs": [],
   "source": [
    "def get_ascii_value(char):\n",
    "    '''return asci value of given char'''\n",
    "    try:\n",
    "        print(\"The ASCII value of '\" + char + \"' is\", ord(char))\n",
    "    except TypeError:\n",
    "        print(\"Invalid Input!\")"
   ]
  },
  {
   "cell_type": "code",
   "execution_count": 11,
   "metadata": {},
   "outputs": [
    {
     "name": "stdout",
     "output_type": "stream",
     "text": [
      "The ASCII value of 'x' is 120\n",
      "The ASCII value of '9' is 57\n",
      "The ASCII value of 'b' is 98\n",
      "Invalid Input!\n"
     ]
    }
   ],
   "source": [
    "get_ascii_value('x')\n",
    "get_ascii_value('9')\n",
    "get_ascii_value('b')\n",
    "get_ascii_value('19')"
   ]
  },
  {
   "cell_type": "markdown",
   "metadata": {},
   "source": [
    "## Q5. Write a Python Program to Make a Simple Calculator with 4 basic mathematical operations?"
   ]
  },
  {
   "cell_type": "code",
   "execution_count": 12,
   "metadata": {},
   "outputs": [],
   "source": [
    "#addition function\n",
    "def add(num1, num2):\n",
    "    return num1 + num2\n",
    "\n",
    "#subtraction function\n",
    "def subtract(num1, num2):\n",
    "    return num1 - num2\n",
    "\n",
    "#multiplication\n",
    "def multiply(num1, num2):\n",
    "    return num1 * num2\n",
    "\n",
    "#Division\n",
    "def divide(num1, num2):\n",
    "    return num1 / num2"
   ]
  },
  {
   "cell_type": "code",
   "execution_count": 13,
   "metadata": {},
   "outputs": [],
   "source": [
    "def simple_calc(operation,num1,num2):\n",
    "    '''return math opertaion for given numbers.\n",
    "    Operation argument must be integer value for corrosponding operation'''\n",
    "\n",
    "    if operation == 1:\n",
    "        print(\"Addition of {0} , {1} is : {2}\".format(num1,num2,add(num1,num2)))\n",
    "    elif operation == 2:\n",
    "        print(\"Subtraction of {0} , {1} is : {2}\".format(num1,num2,subtract(num1,num2)))\n",
    "    elif operation == 3:\n",
    "        print(\"Multiplication of {0} , {1} is : {2}\".format(num1,num2,multiply(num1,num2)))\n",
    "    elif operation == 4:\n",
    "        print(\"Division of {0} , {1} is : {2}\".format(num1,num2,divide(num1,num2)))\n",
    "    else:\n",
    "        print(\"Invalid Operation!\")"
   ]
  },
  {
   "cell_type": "code",
   "execution_count": 14,
   "metadata": {},
   "outputs": [
    {
     "name": "stdout",
     "output_type": "stream",
     "text": [
      "Calculate Operations -\n",
      "1. Add\n",
      "2. Subtract\n",
      "3. Multiply\n",
      "4. Divide\n",
      "\n",
      "Addition of 4 , 5 is : 9\n",
      "Subtraction of 14 , 5 is : 9\n",
      "Multiplication of 4 , 5 is : 20\n",
      "Division of 200 , 20 is : 10.0\n",
      "Invalid Operation!\n"
     ]
    }
   ],
   "source": [
    "print(\"Calculate Operations -\\n\"\\\n",
    "    \"1. Add\\n\" \\\n",
    "    \"2. Subtract\\n\" \\\n",
    "    \"3. Multiply\\n\" \\\n",
    "    \"4. Divide\\n\")\n",
    "simple_calc(1,4,5)\n",
    "simple_calc(2,14,5)\n",
    "simple_calc(3,4,5)\n",
    "simple_calc(4,200,20)\n",
    "simple_calc(9,10,2)"
   ]
  },
  {
   "cell_type": "code",
   "execution_count": null,
   "metadata": {},
   "outputs": [],
   "source": []
  }
 ],
 "metadata": {
  "kernelspec": {
   "display_name": "Python 3",
   "language": "python",
   "name": "python3"
  },
  "language_info": {
   "codemirror_mode": {
    "name": "ipython",
    "version": 3
   },
   "file_extension": ".py",
   "mimetype": "text/x-python",
   "name": "python",
   "nbconvert_exporter": "python",
   "pygments_lexer": "ipython3",
   "version": "3.8.3"
  }
 },
 "nbformat": 4,
 "nbformat_minor": 4
}
