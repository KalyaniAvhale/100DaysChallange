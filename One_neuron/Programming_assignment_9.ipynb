{
 "cells": [
  {
   "cell_type": "markdown",
   "metadata": {},
   "source": [
    "# Programming Assignment : 9 \n",
    "\n",
    "1.\tWrite a Python program to check if the given number is a Disarium Number?\n",
    "2.\tWrite a Python program to print all disarium numbers between 1 to 100?\n",
    "3.\tWrite a Python program to check if the given number is Happy Number?\n",
    "4.\tWrite a Python program to print all happy numbers between 1 and 100?\n",
    "5.\tWrite a Python program to determine whether the given number is a Harshad Number?\n",
    "6.\tWrite a Python program to print all pronic numbers between 1 and 100?\n"
   ]
  },
  {
   "cell_type": "markdown",
   "metadata": {},
   "source": [
    "## Q1. Write a Python program to check if the given number is a Disarium Number?"
   ]
  },
  {
   "cell_type": "code",
   "execution_count": 1,
   "metadata": {},
   "outputs": [],
   "source": [
    "def check_disarium(number):\n",
    "    length = len(str(number))\n",
    "\n",
    "    temp = number\n",
    "    sum = 0\n",
    "    rem = 0\n",
    "\n",
    "    while temp > 0:\n",
    "        rem = temp % 10\n",
    "        sum = sum + int(rem**length)\n",
    "        temp = temp // 10\n",
    "        length = length - 1\n",
    "    if sum == number:\n",
    "        return True\n",
    "    else:\n",
    "        return False\n"
   ]
  },
  {
   "cell_type": "code",
   "execution_count": 2,
   "metadata": {},
   "outputs": [
    {
     "data": {
      "text/plain": [
       "True"
      ]
     },
     "execution_count": 2,
     "metadata": {},
     "output_type": "execute_result"
    }
   ],
   "source": [
    "check_disarium(175)"
   ]
  },
  {
   "cell_type": "code",
   "execution_count": 3,
   "metadata": {},
   "outputs": [
    {
     "data": {
      "text/plain": [
       "False"
      ]
     },
     "execution_count": 3,
     "metadata": {},
     "output_type": "execute_result"
    }
   ],
   "source": [
    "check_disarium(18)"
   ]
  },
  {
   "cell_type": "markdown",
   "metadata": {},
   "source": [
    "## Q2. Write a Python program to print all disarium numbers between 1 to 100?"
   ]
  },
  {
   "cell_type": "code",
   "execution_count": 4,
   "metadata": {},
   "outputs": [
    {
     "name": "stdout",
     "output_type": "stream",
     "text": [
      "Disarium Numbers between 1 to 100 are : \n",
      "1 2 3 4 5 6 7 8 9 89 "
     ]
    }
   ],
   "source": [
    "print(\"Disarium Numbers between 1 to 100 are : \")\n",
    "for i in range(1,101):\n",
    "    if check_disarium(i):\n",
    "        print(i,end=\" \")"
   ]
  },
  {
   "cell_type": "markdown",
   "metadata": {},
   "source": [
    "## Q3. Write a Python program to check if the given number is Happy Number?\n"
   ]
  },
  {
   "cell_type": "code",
   "execution_count": 5,
   "metadata": {},
   "outputs": [],
   "source": [
    "def happy_number(number):\n",
    "    remainder = 0\n",
    "    happy_num = 0;\n",
    "    while(number > 0):\n",
    "        remainder = number%10;\n",
    "        happy_num = happy_num + (remainder*remainder);\n",
    "        number = number//10;\n",
    "    return happy_num"
   ]
  },
  {
   "cell_type": "code",
   "execution_count": 6,
   "metadata": {},
   "outputs": [],
   "source": [
    "def check_happy(num):\n",
    "    result = num\n",
    "    while(result != 1 and result != 4):    \n",
    "        result = happy_number(result);    \n",
    "\n",
    "    if(result == 1):    \n",
    "        print(str(num) + \" is a happy number\");    \n",
    "    elif(result == 4):    \n",
    "        print(str(num) + \" is not a happy number\");  "
   ]
  },
  {
   "cell_type": "code",
   "execution_count": 7,
   "metadata": {},
   "outputs": [
    {
     "name": "stdout",
     "output_type": "stream",
     "text": [
      "32 is a happy number\n"
     ]
    }
   ],
   "source": [
    "check_happy(32)"
   ]
  },
  {
   "cell_type": "code",
   "execution_count": 8,
   "metadata": {},
   "outputs": [
    {
     "name": "stdout",
     "output_type": "stream",
     "text": [
      "6 is not a happy number\n"
     ]
    }
   ],
   "source": [
    "check_happy(6)"
   ]
  },
  {
   "cell_type": "markdown",
   "metadata": {},
   "source": [
    "## Q4. Write a Python program to print all happy numbers between 1 and 100?"
   ]
  },
  {
   "cell_type": "code",
   "execution_count": 9,
   "metadata": {},
   "outputs": [
    {
     "name": "stdout",
     "output_type": "stream",
     "text": [
      "Hapy numbers between 1 and 100 are :\n",
      "7 10 13 19 23 28 31 32 44 49 68 70 79 82 86 91 94 97 100 "
     ]
    }
   ],
   "source": [
    "print(\"Hapy numbers between 1 and 100 are :\")\n",
    "for i in range(1,100+1):\n",
    "    happy_num = i\n",
    "    while(happy_num != 1 and happy_num != 4):\n",
    "        happy_num = happy_number(happy_num)\n",
    "        if(happy_num == 1):\n",
    "            print(i,end=\" \")"
   ]
  },
  {
   "cell_type": "markdown",
   "metadata": {},
   "source": [
    "## Q5. Write a Python program to determine whether the given number is a Harshad Number?"
   ]
  },
  {
   "cell_type": "code",
   "execution_count": 10,
   "metadata": {},
   "outputs": [],
   "source": [
    "def checkHarshad(num):\n",
    "    rem = sum = 0    \n",
    "    n = num    \n",
    "  \n",
    "    while(num > 0):    \n",
    "        rem = num%10;    \n",
    "        sum = sum + rem;    \n",
    "        num = num//10;    \n",
    "  \n",
    "    if(n%sum == 0):    \n",
    "        print(str(n) + \" is a harshad number\");    \n",
    "    else:    \n",
    "        print(str(n) + \" is not a harshad number\");    "
   ]
  },
  {
   "cell_type": "code",
   "execution_count": 11,
   "metadata": {},
   "outputs": [
    {
     "name": "stdout",
     "output_type": "stream",
     "text": [
      "15 is not a harshad number\n"
     ]
    }
   ],
   "source": [
    "checkHarshad(15)"
   ]
  },
  {
   "cell_type": "code",
   "execution_count": 12,
   "metadata": {},
   "outputs": [
    {
     "name": "stdout",
     "output_type": "stream",
     "text": [
      "156 is a harshad number\n"
     ]
    }
   ],
   "source": [
    "checkHarshad(156)"
   ]
  },
  {
   "cell_type": "markdown",
   "metadata": {},
   "source": [
    "## Q6. Write a Python program to print all pronic numbers between 1 and 100?"
   ]
  },
  {
   "cell_type": "code",
   "execution_count": 13,
   "metadata": {},
   "outputs": [
    {
     "name": "stdout",
     "output_type": "stream",
     "text": [
      "Pronic numbers between 1 to 100 : \n",
      "2   6   12   20   30   42   56   72   90   "
     ]
    }
   ],
   "source": [
    "##Pronic number is : n (n+1) eg.  2(2+1) = 6 is pronic number\n",
    "def checkPronicNumber(Number):\n",
    "    '''Return true or false if number is pronic or not'''\n",
    "    flag = 0\n",
    "    for i in range(Number + 1):\n",
    "        if Number == i * (i + 1):\n",
    "            flag = 1\n",
    "            break\n",
    "    return flag\n",
    "\n",
    "print(\"Pronic numbers between 1 to 100 : \")\n",
    "for i in range(1, 101):\n",
    "    if(checkPronicNumber(i) == 1):\n",
    "        print(i, end = '   ')"
   ]
  },
  {
   "cell_type": "code",
   "execution_count": null,
   "metadata": {},
   "outputs": [],
   "source": []
  }
 ],
 "metadata": {
  "kernelspec": {
   "display_name": "Python 3",
   "language": "python",
   "name": "python3"
  },
  "language_info": {
   "codemirror_mode": {
    "name": "ipython",
    "version": 3
   },
   "file_extension": ".py",
   "mimetype": "text/x-python",
   "name": "python",
   "nbconvert_exporter": "python",
   "pygments_lexer": "ipython3",
   "version": "3.8.3"
  }
 },
 "nbformat": 4,
 "nbformat_minor": 4
}
