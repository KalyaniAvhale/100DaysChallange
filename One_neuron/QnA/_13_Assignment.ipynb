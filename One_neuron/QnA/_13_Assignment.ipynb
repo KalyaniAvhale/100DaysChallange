{
 "cells": [
  {
   "cell_type": "markdown",
   "metadata": {},
   "source": [
    "# Assignemnt : 13"
   ]
  },
  {
   "cell_type": "markdown",
   "metadata": {},
   "source": [
    " "
   ]
  },
  {
   "cell_type": "markdown",
   "metadata": {},
   "source": [
    "#### 1. What advantages do Excel spreadsheets have over CSV spreadsheets?\n",
    "Excel is used to displays the data in horizontal and vertical rows. The data are usually stored in the cells. We have an option of formulas in Excel that can be used for data and its place of storage. You can even add any charts, graphics, etc. to make it more presentable.\n",
    "\n",
    "CSV refers to Comma-Separated Values. It holds plain text as a series of values (cells) separated by commas (, ) in a series of lines (rows). CSV file can actually open in a text editor and read it.\n",
    "\n",
    "Thus,\n",
    "In Excel, spreadsheets can have values of data types other than strings; cells can have different fonts, sizes, or color settings; cells can have varying widths and heights; adjacent cells can be merged; and you can embed images and charts.While Excel (XLS and XLSX) file formats are better for storing more complex data, CSV files are supported by nearly all data upload interfaces"
   ]
  },
  {
   "cell_type": "markdown",
   "metadata": {},
   "source": [
    "#### 2. What do you pass to csv.reader() and csv.writer() to create reader and writer objects?\n",
    "You pass a File object, obtained from a call to open()"
   ]
  },
  {
   "cell_type": "markdown",
   "metadata": {},
   "source": [
    "#### 3. What modes do File objects for reader and writer objects need to be opened in?\n",
    "File objects need to be opened in read-binary ('rb') for reader objects and write-binary ('wb') for writer objects."
   ]
  },
  {
   "cell_type": "markdown",
   "metadata": {},
   "source": [
    "#### 4. What method takes a list argument and writes it to a CSV file?\n",
    "The writerow() method for writer objects takes a list argument. "
   ]
  },
  {
   "cell_type": "markdown",
   "metadata": {},
   "source": [
    "#### 5. What do the keyword arguments delimiter and line terminator do?\n",
    "The delimiter argument changes the string used to separate cells in a row. The lineterminator argument changes the string used to separate rows.By default newline is line treminator character and for csv files is comma(,)"
   ]
  },
  {
   "cell_type": "markdown",
   "metadata": {},
   "source": [
    "#### 6. What function takes a string of JSON data and returns a Python data structure?\n",
    "json.load() takes string and returns a python value so To translate a string containing JSON data into a Python value, pass it to the json.loads()."
   ]
  },
  {
   "cell_type": "markdown",
   "metadata": {},
   "source": [
    "#### 7. What function takes a Python data structure and returns a string of JSON data?\n",
    "json.dumps() function will translate a Python value into a string of JSON-formatted data"
   ]
  }
 ],
 "metadata": {
  "kernelspec": {
   "display_name": "Python 3",
   "language": "python",
   "name": "python3"
  },
  "language_info": {
   "codemirror_mode": {
    "name": "ipython",
    "version": 3
   },
   "file_extension": ".py",
   "mimetype": "text/x-python",
   "name": "python",
   "nbconvert_exporter": "python",
   "pygments_lexer": "ipython3",
   "version": "3.8.3"
  }
 },
 "nbformat": 4,
 "nbformat_minor": 4
}
