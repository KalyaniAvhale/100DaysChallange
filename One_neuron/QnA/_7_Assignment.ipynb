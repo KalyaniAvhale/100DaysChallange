{
 "cells": [
  {
   "cell_type": "markdown",
   "metadata": {},
   "source": [
    "# Assignment 7 "
   ]
  },
  {
   "cell_type": "markdown",
   "metadata": {},
   "source": [
    "#### 1. What is the name of the feature responsible for generating Regex objects?\n",
    "**Ans:** re.compile() is responsible for creating Regex objects in python. Regular Expressions, also known as “regex” or “regexp”, are used to match strings of text such as particular characters, words, or patterns of characters. \n",
    "\n",
    "re.compile() method is used to compile a regular expression pattern provided as a string into a regex pattern object (re.Pattern). Later we can use this pattern object to search for a match inside different target strings using regex methods such as a re.match() or re.search().\n",
    "\n",
    "Example :"
   ]
  },
  {
   "cell_type": "code",
   "execution_count": 1,
   "metadata": {},
   "outputs": [
    {
     "name": "stdout",
     "output_type": "stream",
     "text": [
      "['1', '2']\n"
     ]
    }
   ],
   "source": [
    "import re\n",
    "string = '''This is line 1\n",
    "This is line 2'''\n",
    "\n",
    "pattern = re.compile(r'\\d') #match digit\n",
    "res = pattern.findall(string)\n",
    "print(res)"
   ]
  },
  {
   "cell_type": "markdown",
   "metadata": {},
   "source": [
    "#### 2. Why do raw strings often appear in Regex objects?\n",
    "**Ans:** Raw string notation (r\"text\") keeps regular expressions meaningful and confusion-free. Without it, every backslash ('\\') in a regular expression would have to be prefixed with another one to escape it."
   ]
  },
  {
   "cell_type": "markdown",
   "metadata": {},
   "source": [
    "#### 3. What is the return value of the search() method?\n",
    "**Ans:** The re.search() method takes a regular expression pattern and a string and searches for that pattern within the string. If the search is successful, search() returns a match object or None otherwise.\n",
    "\n",
    "Example:"
   ]
  },
  {
   "cell_type": "code",
   "execution_count": 2,
   "metadata": {},
   "outputs": [
    {
     "name": "stdout",
     "output_type": "stream",
     "text": [
      "<re.Match object; span=(13, 14), match='1'>\n",
      "1\n"
     ]
    }
   ],
   "source": [
    "res = re.search(pattern,string)\n",
    "print(res) #returns the match object\n",
    "\n",
    "print(res.group()) #print matched text value\n"
   ]
  },
  {
   "cell_type": "markdown",
   "metadata": {},
   "source": [
    "#### 4. From a Match item, how do you get the actual strings that match the pattern?\n",
    "**Ans:** Match objects have a group() method that will return the actual matched text from the searched string.\n",
    "Example : shown in above cell"
   ]
  },
  {
   "cell_type": "markdown",
   "metadata": {},
   "source": [
    "#### 5. In the regex which created from the r'(\\d\\d\\d)-(\\d\\d\\d-\\d\\d\\d\\d)', what does group zero cover? Group 2? Group 1?\n",
    "**Ans:** \n",
    "<pre>\n",
    "regex: (\\d\\d\\d)-(\\d\\d\\d-\\d\\d\\d\\d) \n",
    "The first set of parentheses in a regex string will be group 1. \n",
    "The second set will be group 2. \n",
    "By passing the integer 1 or 2 to the group() match object method, you can grab different parts of the matched text. \n",
    "Passing 0 or nothing to the group() method will return the entire matched text\n",
    "Example:\n",
    "</pre>"
   ]
  },
  {
   "cell_type": "code",
   "execution_count": 3,
   "metadata": {},
   "outputs": [
    {
     "name": "stdout",
     "output_type": "stream",
     "text": [
      "Group 0/Nothing:  415-555-4242 or 415-555-4242\n",
      "Group 1 :  415\n",
      "Group 2 :  555-4242\n"
     ]
    }
   ],
   "source": [
    "regex = re.compile(r'(\\d\\d\\d)-(\\d\\d\\d-\\d\\d\\d\\d)')\n",
    "res = regex.search('My number is 415-555-4242.')\n",
    "print(\"Group 0/Nothing: \",res.group(0),'or',res.group())\n",
    "print(\"Group 1 : \",res.group(1))\n",
    "print(\"Group 2 : \",res.group(2))\n"
   ]
  },
  {
   "cell_type": "markdown",
   "metadata": {},
   "source": [
    "#### 6. In standard expression syntax, parentheses and intervals have distinct meanings. How can you tell a regex that you want it to fit real parentheses and periods?\n",
    "**Ans:** Periods and parentheses can be escaped with a backslash: \\., \\(, and \\)."
   ]
  },
  {
   "cell_type": "markdown",
   "metadata": {},
   "source": [
    "#### 7. The findall() method returns a string list or a list of string tuples. What causes it to return one of the two options?\n",
    "**Ans** : \n",
    "If a list of strings is returned when the regex has no groups. If the regex has groups, a list of tuples of strings is \n",
    "returned."
   ]
  },
  {
   "cell_type": "markdown",
   "metadata": {},
   "source": [
    "#### 8. In standard expressions, what does the | character mean?\n",
    "<pre>\n",
    "| character is known as pipe symbol that allows regular expression components to be logically ORed.\n",
    "You can use it anywhere you want to match one of many expressions. \n",
    "The | character signifies matching “either, or” between two groups\n",
    "\n",
    "\n",
    "Example, the regular expression r'Banana|Apple Fruit' will match either 'Banana' or 'Apple Fruit'.\n",
    "\n",
    "When both Banana and Apple Fruit occur in the searched string, the first occurrence of matching text will be \n",
    "returned as the Match object.\n",
    "</pre>"
   ]
  },
  {
   "cell_type": "code",
   "execution_count": 4,
   "metadata": {},
   "outputs": [
    {
     "name": "stdout",
     "output_type": "stream",
     "text": [
      "Banana\n",
      "Apple Fruit\n",
      "None\n"
     ]
    }
   ],
   "source": [
    "fruitRegex = re.compile (r'Banana|Apple Fruit')\n",
    "mo1 = fruitRegex.search('Banana and Apple Fruit')\n",
    "print(mo1.group()) #'Banana'\n",
    "\n",
    "mo2 = fruitRegex.search('Apple Fruit and Banana')\n",
    "print(mo2.group()) #'Apple Fruit'\n",
    "\n",
    "mo3 = fruitRegex.search('He likes no fruit from list ')\n",
    "print(mo3)"
   ]
  },
  {
   "cell_type": "markdown",
   "metadata": {},
   "source": [
    "#### 9. In regular expressions, what does the ? character stand for?\n",
    "<pre>\n",
    "? is occurance or repetation indicator charactor. \n",
    "This symbol tells the computer that the preceding character may\n",
    "or may not be present in the string to be matched.\n",
    "\n",
    "Example : [+-]? matches an optional \"+\", \"-\", or an empty string.\n",
    "\n",
    "</pre>"
   ]
  },
  {
   "cell_type": "code",
   "execution_count": 5,
   "metadata": {},
   "outputs": [
    {
     "name": "stdout",
     "output_type": "stream",
     "text": [
      "Batman\n",
      "Batwoman\n"
     ]
    }
   ],
   "source": [
    "regex = re.compile(r'Bat(wo)?man')\n",
    "mo1 = regex.search('The Adventures of Batman')\n",
    "print(mo1.group())\n",
    "\n",
    "mo2 = regex.search('The Adventures of Batwoman')\n",
    "print(mo2.group())"
   ]
  },
  {
   "cell_type": "markdown",
   "metadata": {},
   "source": [
    "#### 10.In regular expressions, what is the difference between the + and * characters?\n",
    "<pre>\n",
    "+ : indicates one or more (1+) character occurance\n",
    "    Example: [0-9]+ matches one or more digits such as '123', '000'.\n",
    "* : indicates zero or more (0+) character \n",
    "    Example : [0-9]* matches zero or more digits. It accepts all those in [0-9]+ plus the empty string.\n",
    "</pre>"
   ]
  },
  {
   "cell_type": "markdown",
   "metadata": {},
   "source": [
    "#### 11. What is the difference between {4} and {4,5} in regular expression?\n",
    "<pre>\n",
    "The {4} matches exactly four instances of the preceding group. \n",
    "The {4,5} matches between four and five instances\n",
    "</pre>"
   ]
  },
  {
   "cell_type": "markdown",
   "metadata": {},
   "source": [
    "#### 12. What do you mean by the \\d, \\w, and \\s shorthand character classes signify in regular expressions?\n",
    "<pre>\n",
    "This are metacharacters that matches a character\n",
    "\\d : Any non digit character. Digits are [0-9]\n",
    "\\w : matches any word character (basically alpha-numeric)\n",
    "\\s : matches any whitespace characters such as space and tab, For ASCII, whitespace characters are [ \\n\\r\\t\\f]\n",
    "\n",
    "</pre>"
   ]
  },
  {
   "cell_type": "markdown",
   "metadata": {},
   "source": [
    "#### 13. What do means by \\D, \\W, and \\S shorthand character classes signify in regular expressions?\n",
    "<pre>\n",
    "\\D : Any non digit character.\n",
    "\\W : matches any non-word character\n",
    "\\S : Any character that is not a space, tab, or newline.\n",
    "</pre>"
   ]
  },
  {
   "cell_type": "markdown",
   "metadata": {},
   "source": [
    "#### 14. What is the difference between .*? and .*?\n",
    "<pre>\n",
    ".* : The .* uses greedy mode ,it will always try to match as much text as possible.\n",
    ".*? : To match any and all text in a non-greedy fashion, use the .*?\n",
    "the question mark tells Python to match in a non-greedy way.\n",
    "</pre>"
   ]
  },
  {
   "cell_type": "code",
   "execution_count": 6,
   "metadata": {},
   "outputs": [
    {
     "data": {
      "text/plain": [
       "'<To serve man> for dinner.>'"
      ]
     },
     "execution_count": 6,
     "metadata": {},
     "output_type": "execute_result"
    }
   ],
   "source": [
    "greedyRegex = re.compile(r'<.*>')\n",
    "mo = greedyRegex.search('<To serve man> for dinner.>')\n",
    "mo.group()\n",
    "\n"
   ]
  },
  {
   "cell_type": "code",
   "execution_count": 7,
   "metadata": {},
   "outputs": [
    {
     "data": {
      "text/plain": [
       "'<To serve man>'"
      ]
     },
     "execution_count": 7,
     "metadata": {},
     "output_type": "execute_result"
    }
   ],
   "source": [
    "nongreedyRegex = re.compile(r'<.*?>')\n",
    "mo = nongreedyRegex.search('<To serve man> for dinner.>')\n",
    "mo.group()"
   ]
  },
  {
   "cell_type": "markdown",
   "metadata": {},
   "source": [
    "#### 15. What is the syntax for matching both numbers and lowercase letters with a character class?\n",
    "\n",
    "<pre>\n",
    "[.-.] (Range Expression): Accept ANY ONE of the character in the range, \n",
    "\n",
    "Thus [0-9a-z] or [a-z0-9] either can be used to match both numbers and lowercase letters \n",
    "</pre>"
   ]
  },
  {
   "cell_type": "code",
   "execution_count": 8,
   "metadata": {},
   "outputs": [
    {
     "name": "stdout",
     "output_type": "stream",
     "text": [
      "e\n",
      "2\n"
     ]
    }
   ],
   "source": [
    "reg1 = re.compile(r'[0-9a-z]')\n",
    "reg2 = re.compile(r'[a-z0-9]')\n",
    "\n",
    "print(reg1.search('H e L L o').group())\n",
    "print(reg1.search('2 4 H e L L o').group())"
   ]
  },
  {
   "cell_type": "markdown",
   "metadata": {},
   "source": [
    " "
   ]
  },
  {
   "cell_type": "markdown",
   "metadata": {},
   "source": [
    "#### 16. What is the procedure for making a normal expression in regax case insensitive?\n",
    "<pre>\n",
    "adding re.IGNORECASE as flags parameter makes normal expression in rgex case insensitive. Bydefault it is case sensitive\n",
    "Example:</pre>"
   ]
  },
  {
   "cell_type": "code",
   "execution_count": 9,
   "metadata": {},
   "outputs": [
    {
     "name": "stdout",
     "output_type": "stream",
     "text": [
      "BuSh\n",
      "None\n"
     ]
    }
   ],
   "source": [
    "print (re.search('bush', 'BuSh', re.IGNORECASE).group()) #matches string as its case insensitive\n",
    "print (re.search('bush', 'BuSh')) #returns none since it is case sensitive\n"
   ]
  },
  {
   "cell_type": "markdown",
   "metadata": {},
   "source": [
    "#### 17. What does the . character normally match? What does it match if re.DOTALL is passed as 2nd argument in re.compile()?\n",
    "<pre>\n",
    "The . character normally matches any character except the newline character. \n",
    "If re.DOTALL is passed as the second argument to re.compile(), then the dot will also match newline characters."
   ]
  },
  {
   "cell_type": "markdown",
   "metadata": {},
   "source": [
    "#### 18. If numReg = re.compile(r'\\d+'), what will numRegex.sub('X', '11 drummers, 10 pipers, five rings, 4 hen') return?\n",
    "<pre>\n",
    "sub() is used to replace patterns in strings. \n",
    "\n",
    "Call re. sub(pattern, repl, string) to return the string obtained by replacing the leftmost non-overlapping occurrences of the regex pattern in string with repl .\n",
    "\n",
    "Thus , numRegex.sub('X', '11 drummers, 10 pipers, five rings, 4 hen') will replace digit with X character"
   ]
  },
  {
   "cell_type": "code",
   "execution_count": 10,
   "metadata": {},
   "outputs": [
    {
     "name": "stdout",
     "output_type": "stream",
     "text": [
      "X drummers, X pipers, five rings, X hen\n"
     ]
    }
   ],
   "source": [
    "numRegex = re.compile(r'\\d+')\n",
    "res = numRegex.sub('X', '11 drummers, 10 pipers, five rings, 4 hen')\n",
    "print(res)"
   ]
  },
  {
   "cell_type": "markdown",
   "metadata": {},
   "source": [
    "#### 19. What does passing re.VERBOSE as the 2nd argument to re.compile() allow to do?\n",
    "<pre>\n",
    "The re.VERBOSE argument allows you to add whitespace and comments to the string passed to re.compile()\n",
    "Example :\n",
    "regex_email = re.compile(r\"\"\"\n",
    "            ^([a-z0-9_\\.-]+)              # local Part\n",
    "            @                             # single @ sign\n",
    "            ([0-9a-z\\.-]+)                # Domain name\n",
    "            \\.                            # single Dot .\n",
    "            ([a-z]{2,6})$                 # Top level Domain  \n",
    "             \"\"\",re.VERBOSE | re.IGNORECASE)   "
   ]
  },
  {
   "cell_type": "markdown",
   "metadata": {},
   "source": [
    "#### 20. How would you write a regex that match a number with comma for every three digits? It must match the given following:\n",
    "<pre>'42'\n",
    "'1,234'\n",
    "'6,368,745'\n",
    "but not the following:\n",
    "'12,34,567' (which has only two digits between the commas)\n",
    "'1234' (which lacks commas)</pre>\n",
    "\n",
    "**Ans:** regex expression  r'^\\d{1,3}(,\\d{3})*$' can be used to match a number with comma for every three digits"
   ]
  },
  {
   "cell_type": "code",
   "execution_count": 11,
   "metadata": {},
   "outputs": [
    {
     "name": "stdout",
     "output_type": "stream",
     "text": [
      "42\n",
      "1,234\n",
      "None\n"
     ]
    }
   ],
   "source": [
    "regex = re.compile(r'^\\d{1,3}(,\\d{3})*$')\n",
    "print(regex.search('42').group())\n",
    "print(regex.search('1,234').group())\n",
    "print(regex.search('12,34,567'))"
   ]
  },
  {
   "cell_type": "markdown",
   "metadata": {},
   "source": [
    "#### 21. How would you write a regex that matches the full name of someone whose last name is Watanabe? You can assume that the first name that comes before it will always be one word that begins with a capital letter. The regex must match the following:\n",
    "<pre>'Haruto Watanabe'\n",
    "'Alice Watanabe'\n",
    "'RoboCop Watanabe'\n",
    "but not the following:\n",
    "'haruto Watanabe' (where the first name is not capitalized)\n",
    "'Mr. Watanabe' (where the preceding word has a nonletter character)\n",
    "'Watanabe' (which has no first name)\n",
    "'Haruto watanabe' (where Watanabe is not capitalized)</pre>\n",
    "\n",
    "**Ans:** re.compile(r'[A-Z][A-Za-z]*\\sWatanabe')"
   ]
  },
  {
   "cell_type": "code",
   "execution_count": 12,
   "metadata": {},
   "outputs": [
    {
     "name": "stdout",
     "output_type": "stream",
     "text": [
      "Haruto Watanabe\n",
      "RoboCop Watanabe\n",
      "None\n"
     ]
    }
   ],
   "source": [
    "regex = re.compile(r'[A-Z][A-Za-z]*\\sWatanabe')\n",
    "print(regex.search('Haruto Watanabe').group())\n",
    "print(regex.search('RoboCop Watanabe').group())\n",
    "print(regex.search('haruto Watanabe'))"
   ]
  },
  {
   "cell_type": "markdown",
   "metadata": {},
   "source": [
    "#### 22. How would you write a regex that matches a sentence where the first word is either Alice, Bob, or Carol; the second word is either eats, pets, or throws; the third word is apples, cats, or baseballs; and the sentence ends with a period? This regex should be case-insensitive. It must match the following:\n",
    "<pre>\n",
    "'Alice eats apples.'\n",
    "'Bob pets cats.'\n",
    "'Carol throws baseballs.'\n",
    "'Alice throws Apples.'\n",
    "'BOB EATS CATS.'\n",
    "but not the following:\n",
    "'RoboCop eats apples.'\n",
    "'ALICE THROWS FOOTBALLS.'\n",
    "'Carol eats 7 cats.'</pre>"
   ]
  },
  {
   "cell_type": "code",
   "execution_count": 13,
   "metadata": {},
   "outputs": [
    {
     "name": "stdout",
     "output_type": "stream",
     "text": [
      "Alice eats apples.\n",
      "Bob pets cats.\n",
      "None\n"
     ]
    }
   ],
   "source": [
    "reobje = re.compile(r'(Alice|Bob|Carol)\\s(eats|pets|throws)\\s(apples|cats|baseballs)\\.$',re.IGNORECASE)\n",
    "\n",
    "print(reobje.search('Alice eats apples.').group())\n",
    "print(reobje.search('Bob pets cats.').group())\n",
    "print(reobje.search('ALICE THROWS FOOTBALLS.'))"
   ]
  },
  {
   "cell_type": "code",
   "execution_count": null,
   "metadata": {},
   "outputs": [],
   "source": []
  }
 ],
 "metadata": {
  "kernelspec": {
   "display_name": "Python 3",
   "language": "python",
   "name": "python3"
  },
  "language_info": {
   "codemirror_mode": {
    "name": "ipython",
    "version": 3
   },
   "file_extension": ".py",
   "mimetype": "text/x-python",
   "name": "python",
   "nbconvert_exporter": "python",
   "pygments_lexer": "ipython3",
   "version": "3.8.3"
  }
 },
 "nbformat": 4,
 "nbformat_minor": 4
}
