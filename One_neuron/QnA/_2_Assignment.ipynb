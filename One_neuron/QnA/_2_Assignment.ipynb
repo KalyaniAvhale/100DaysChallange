{
 "cells": [
  {
   "cell_type": "markdown",
   "metadata": {},
   "source": [
    "# Assignment : 2"
   ]
  },
  {
   "cell_type": "markdown",
   "metadata": {},
   "source": [
    "#### 1. What are the two values of the Boolean data type? How do you write them?\n",
    "**Ans :** two boolean values are True and False , used to represent the truth values of the expressions.\n",
    "\n",
    "Example, 10 == 10 is True or s 2<1 is False\n",
    "\n",
    "We can also define boolean values by typing True or False without quotes \n",
    "\n",
    "Example:"
   ]
  },
  {
   "cell_type": "code",
   "execution_count": 1,
   "metadata": {},
   "outputs": [
    {
     "name": "stdout",
     "output_type": "stream",
     "text": [
      "True False\n",
      "<class 'bool'>\n"
     ]
    }
   ],
   "source": [
    "a = True\n",
    "b = False\n",
    "print(a , b)\n",
    "print(type(a))"
   ]
  },
  {
   "cell_type": "code",
   "execution_count": 2,
   "metadata": {},
   "outputs": [
    {
     "name": "stdout",
     "output_type": "stream",
     "text": [
      "True True False\n"
     ]
    }
   ],
   "source": [
    "print(2<3 , 3==3 , 5!=5)"
   ]
  },
  {
   "cell_type": "markdown",
   "metadata": {},
   "source": [
    "#### 2. What are the three different types of Boolean operators?\n",
    "\n",
    "**Ans :** There are three logical operators used to compare values and these evaluates down the results into two boolean values True or False . The three operators are AND, OR , NOT and these operators are also known as boolean operators."
   ]
  },
  {
   "cell_type": "markdown",
   "metadata": {},
   "source": [
    " "
   ]
  },
  {
   "cell_type": "markdown",
   "metadata": {},
   "source": [
    "#### 3. Make a list of each Boolean operator's truth tables (i.e. every possible combination of Boolean values for the operator and what it evaluate ).\n",
    "\n",
    "**Ans:**\n",
    "1. AND - AND operator returns true only if all the operands are true\n",
    "2. OR - OR operator returns true if any of the operand is true\n",
    "3. NOT - NOT operator returns true if its operand is false expression and returns false if it is true"
   ]
  },
  {
   "cell_type": "code",
   "execution_count": 3,
   "metadata": {},
   "outputs": [
    {
     "name": "stdout",
     "output_type": "stream",
     "text": [
      "True AND TRUE :  True\n",
      "True AND False :  False\n",
      "False AND TRUE :  False\n",
      "False AND False :  False\n"
     ]
    }
   ],
   "source": [
    "## AND \n",
    "print(\"True AND TRUE : \",True and True)\n",
    "print(\"True AND False : \",True and False)\n",
    "print(\"False AND TRUE : \",False and True)\n",
    "print(\"False AND False : \",False and False)"
   ]
  },
  {
   "cell_type": "code",
   "execution_count": 4,
   "metadata": {},
   "outputs": [
    {
     "name": "stdout",
     "output_type": "stream",
     "text": [
      "True OR TRUE :  True\n",
      "True OR False :  True\n",
      "False OR TRUE :  True\n",
      "False OR False :  False\n"
     ]
    }
   ],
   "source": [
    "## OR  \n",
    "print(\"True OR TRUE : \",True or True)\n",
    "print(\"True OR False : \",True or False)\n",
    "print(\"False OR TRUE : \",False or True)\n",
    "print(\"False OR False : \",False or False)"
   ]
  },
  {
   "cell_type": "code",
   "execution_count": 5,
   "metadata": {},
   "outputs": [
    {
     "name": "stdout",
     "output_type": "stream",
     "text": [
      "Not(True) :  False\n",
      "Not(False) :  True\n"
     ]
    }
   ],
   "source": [
    "##NOT\n",
    "print(\"Not(True) : \",not(True))\n",
    "print(\"Not(False) : \",not(False))"
   ]
  },
  {
   "cell_type": "markdown",
   "metadata": {},
   "source": [
    " "
   ]
  },
  {
   "cell_type": "markdown",
   "metadata": {},
   "source": [
    "#### 4. What are the values of the following expressions?\n",
    "(5 > 4) and (3 == 5)\n",
    "not (5 > 4)\n",
    "(5 > 4) or (3 == 5)\n",
    "not ((5 > 4) or (3 == 5))\n",
    "(True and True) and (True == False)\n",
    "(not False) or (not True)\n",
    "\n",
    "**Ans:**"
   ]
  },
  {
   "cell_type": "code",
   "execution_count": 6,
   "metadata": {},
   "outputs": [
    {
     "name": "stdout",
     "output_type": "stream",
     "text": [
      "False\n",
      "False\n",
      "True\n",
      "False\n",
      "False\n",
      "True\n"
     ]
    }
   ],
   "source": [
    "print((5 > 4) and (3 == 5))\n",
    "print(not (5 > 4))\n",
    "print((5 > 4) or (3 == 5))\n",
    "print(not ((5 > 4) or (3 == 5)))\n",
    "print((True and True) and (True == False))\n",
    "print((not False) or (not True))\n"
   ]
  },
  {
   "cell_type": "markdown",
   "metadata": {},
   "source": [
    "#### 5. What are the six comparison operators?\n",
    "\n",
    "**Ans:**\n",
    "Below are the SIX COMPARISION OPERATORS :\n",
    "1. Less than ( < ) : returns True if the value on the left is less than the value on the right. Otherwise, it returns False\n",
    "2. Less than or equal to ( <= ) : returns True if the value on the left is less than or equal the value on the right. Otherwise, it returns False\n",
    "3. Greater than ( > )  : returns True if the value on the right is less than the value on the left. Otherwise, it returns False\n",
    "4. Greater than or equal to ( >= ) : returns True if the value on the right is less than or equal the value on the left. Otherwise, it returns False\n",
    "5. Equal to ( == ) : returns true if both values on left and right are equal\n",
    "6. Not equal to ( != ) : returns true if both values on left and right are not equal"
   ]
  },
  {
   "cell_type": "code",
   "execution_count": 7,
   "metadata": {},
   "outputs": [
    {
     "name": "stdout",
     "output_type": "stream",
     "text": [
      "True\n",
      "True\n",
      "True\n",
      "True\n",
      "True\n",
      "True\n"
     ]
    }
   ],
   "source": [
    "a = 10\n",
    "b = 40 \n",
    "c = 10 \n",
    "\n",
    "print(a<b)\n",
    "print(a<=c)\n",
    "print(b>a)\n",
    "print(b>=40)\n",
    "print(a == c)\n",
    "print(a!=b)"
   ]
  },
  {
   "cell_type": "markdown",
   "metadata": {},
   "source": [
    "#### 6. How do you tell the difference between the equal to and assignment operators?Describe a condition and when you would use one.\n",
    "\n",
    "\n",
    "**Ans:**  \n",
    "    '=' is used as assignment operator while assigning values to variables and '==' as comparision operator to compare values and retruns boolean results.\n",
    "    \n",
    "    Example : \n",
    "        a = 10 , here = is used for assignment \n",
    "        a == b , here == is used for comparison \n",
    "    "
   ]
  },
  {
   "cell_type": "markdown",
   "metadata": {},
   "source": [
    "#### 7. Identify the three blocks in this code:\n",
    "spam = 0\n",
    "if spam == 10:\n",
    "print('eggs')\n",
    "if spam > 5:\n",
    "print('bacon')\n",
    "else:\n",
    "print('ham')\n",
    "print('spam')\n",
    "print('spam')\n",
    "\n",
    "\n",
    "**Ans:** Three blocks are the 2 if block , and 1 else block followed by if "
   ]
  },
  {
   "cell_type": "code",
   "execution_count": 8,
   "metadata": {},
   "outputs": [
    {
     "name": "stdout",
     "output_type": "stream",
     "text": [
      "ham\n",
      "spam\n",
      "spam\n"
     ]
    }
   ],
   "source": [
    "spam = 0\n",
    "if spam == 10:\n",
    "    print('eggs')\n",
    "if spam > 5:\n",
    "    print('bacon')\n",
    "else:\n",
    "    print('ham')\n",
    "    print('spam')\n",
    "    print('spam')"
   ]
  },
  {
   "cell_type": "markdown",
   "metadata": {},
   "source": [
    "#### 8. Write code that prints Hello if 1 is stored in spam, prints Howdy if 2 is stored in spam, and prints Greetings! if anything else is stored in spam.\n",
    "\n"
   ]
  },
  {
   "cell_type": "code",
   "execution_count": 9,
   "metadata": {},
   "outputs": [
    {
     "name": "stdout",
     "output_type": "stream",
     "text": [
      "Input Value for spam(1/2) : 2\n",
      "Howdy\n"
     ]
    }
   ],
   "source": [
    "spam = input(\"Input Value for spam(1/2) : \")\n",
    "if spam == '1':\n",
    "    print(\"Hello\")\n",
    "elif spam == '2':\n",
    "    print(\"Howdy\")\n",
    "else:\n",
    "    print(\"Greeting!\")"
   ]
  },
  {
   "cell_type": "markdown",
   "metadata": {},
   "source": [
    "#### 9.If your programme is stuck in an endless loop, what keys you’ll press?\n",
    "\n",
    "**Ans:**\n",
    "Ctrl + C helps in breaking the loop"
   ]
  },
  {
   "cell_type": "markdown",
   "metadata": {},
   "source": [
    "#### 10. How can you tell the difference between break and continue?\n",
    "\n",
    "**Ans:**\n",
    "Break statement takes care of terminating the loop in which it is used. If the break statement is used inside nested loops, the current loop is terminated, and the flow will continue with the code followed that comes after the loop.\n",
    "\n",
    "Continue statement skips the code that comes after it, and the control is passed back to the start for the next iteration."
   ]
  },
  {
   "cell_type": "code",
   "execution_count": 10,
   "metadata": {},
   "outputs": [
    {
     "name": "stdout",
     "output_type": "stream",
     "text": [
      "1\n",
      "2\n",
      "End\n"
     ]
    }
   ],
   "source": [
    "#break statment\n",
    "for i in [1,2,3,4,5]:\n",
    "    if i == 3 :\n",
    "        break\n",
    "    print(i)\n",
    "\n",
    "print(\"End\")\n"
   ]
  },
  {
   "cell_type": "code",
   "execution_count": 11,
   "metadata": {},
   "outputs": [
    {
     "name": "stdout",
     "output_type": "stream",
     "text": [
      "1\n",
      "2\n",
      "4\n",
      "5\n",
      "End\n"
     ]
    }
   ],
   "source": [
    "#continue statment\n",
    "for i in [1,2,3,4,5]:\n",
    "    if i == 3 :\n",
    "        continue\n",
    "    print(i)\n",
    "\n",
    "print(\"End\")"
   ]
  },
  {
   "cell_type": "markdown",
   "metadata": {},
   "source": [
    "#### 11. In a for loop, what is the difference between range(10), range(0, 10), and range(0, 10, 1)?\n",
    "\n",
    "**Ans :**\n",
    "range() creates sequence of numbers.\n",
    "\n",
    "There would be no difference with the output generated with range(10), range(0, 10), and range(0, 10, 1). \n",
    "range() takes below arguments ,\n",
    "1. start\tOptional. An integer number specifying at which position to start. Default is 0\n",
    "2. stop\tRequired. An integer number specifying at which position to stop (not included).\n",
    "3. step\tOptional. An integer number specifying the incrementation. Default is 1"
   ]
  },
  {
   "cell_type": "code",
   "execution_count": 12,
   "metadata": {},
   "outputs": [
    {
     "name": "stdout",
     "output_type": "stream",
     "text": [
      "range(10) :  [0, 1, 2, 3, 4, 5, 6, 7, 8, 9]\n",
      "range(0,10) :  [0, 1, 2, 3, 4, 5, 6, 7, 8, 9]\n",
      "range(0,10,1) :  [0, 1, 2, 3, 4, 5, 6, 7, 8, 9]\n"
     ]
    }
   ],
   "source": [
    "print('range(10) : ',[i for i in range(10)])\n",
    "print('range(0,10) : ',[i for i in range(0,10)])\n",
    "print('range(0,10,1) : ',[i for i in range(10)])"
   ]
  },
  {
   "cell_type": "markdown",
   "metadata": {},
   "source": [
    "#### 12. Write a short program that prints the numbers 1 to 10 using a for loop. Then write an equivalent program that prints the numbers 1 to 10 using a while loop.\n"
   ]
  },
  {
   "cell_type": "code",
   "execution_count": 13,
   "metadata": {},
   "outputs": [
    {
     "name": "stdout",
     "output_type": "stream",
     "text": [
      "1\n",
      "2\n",
      "3\n",
      "4\n",
      "5\n",
      "6\n",
      "7\n",
      "8\n",
      "9\n",
      "10\n"
     ]
    }
   ],
   "source": [
    "##using for loop \n",
    "for i in range(1,11):\n",
    "    print(i)"
   ]
  },
  {
   "cell_type": "code",
   "execution_count": 14,
   "metadata": {},
   "outputs": [
    {
     "name": "stdout",
     "output_type": "stream",
     "text": [
      "1\n",
      "2\n",
      "3\n",
      "4\n",
      "5\n",
      "6\n",
      "7\n",
      "8\n",
      "9\n",
      "10\n"
     ]
    }
   ],
   "source": [
    "##usning while loop\n",
    "i = 1\n",
    "while i <= 10:\n",
    "    print(i)\n",
    "    i += 1\n",
    "    "
   ]
  },
  {
   "cell_type": "markdown",
   "metadata": {},
   "source": [
    "#### 13. If you had a function named bacon() inside a module named spam, how would you call it after importing spam?\n",
    "**Ans:** bacon() is method of moduel spam , thus this can be called using spam.bacon() after importing spam module"
   ]
  },
  {
   "cell_type": "code",
   "execution_count": null,
   "metadata": {},
   "outputs": [],
   "source": []
  }
 ],
 "metadata": {
  "kernelspec": {
   "display_name": "Python 3",
   "language": "python",
   "name": "python3"
  },
  "language_info": {
   "codemirror_mode": {
    "name": "ipython",
    "version": 3
   },
   "file_extension": ".py",
   "mimetype": "text/x-python",
   "name": "python",
   "nbconvert_exporter": "python",
   "pygments_lexer": "ipython3",
   "version": "3.8.3"
  }
 },
 "nbformat": 4,
 "nbformat_minor": 4
}
