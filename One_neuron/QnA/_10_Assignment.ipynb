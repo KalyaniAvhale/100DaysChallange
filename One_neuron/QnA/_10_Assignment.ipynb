{
 "cells": [
  {
   "cell_type": "markdown",
   "metadata": {},
   "source": [
    "# Assignment : 10"
   ]
  },
  {
   "cell_type": "markdown",
   "metadata": {},
   "source": [
    "#### 1. How do you distinguish between shutil.copy() and shutil.copytree()?\n",
    "shutil.copy() function will copy a single file, while shutil. copytree() will copy an entire folder, along with all its contents."
   ]
  },
  {
   "cell_type": "markdown",
   "metadata": {},
   "source": [
    "#### 2. What function is used to rename files??\n",
    "os.rename() method in Python is used to rename a file or directory.\n",
    "This method renames a source file/ directory to specified destination file/directory."
   ]
  },
  {
   "cell_type": "markdown",
   "metadata": {},
   "source": [
    "#### 3. What is the difference between the delete functions in the send2trash and shutil modules?\n",
    "The send2trash functions will move a file or folder to the recycle bin, while shutil functions will permanently delete files and folders. send2trash is much safer than Python’s regular delete functions, because it will send folders and files to your computer’s trash or recycle bin instead of permanently deleting them. If a bug in your program deletes something with send2trash you didn’t intend to delete, you can later restore it from the recycle bin."
   ]
  },
  {
   "cell_type": "markdown",
   "metadata": {},
   "source": [
    "#### 4.ZipFile objects have a close() method just like File objects’ close() method. What ZipFile method is equivalent to File objects’ open() method?\n",
    "The zipfile.ZipFile() function is equivalent to the open() function; the first argument is the filename, and the second argument is the mode to open the ZIP file in (read, write, or append)."
   ]
  },
  {
   "cell_type": "markdown",
   "metadata": {},
   "source": [
    "#### 5. Create a programme that searches a folder tree for files with a certain file extension (such as .pdf or .jpg). Copy these files from whatever location they are in to a new folder.\n"
   ]
  },
  {
   "cell_type": "code",
   "execution_count": 1,
   "metadata": {},
   "outputs": [],
   "source": [
    "import os, shutil\n",
    "\n",
    "def selectiveCopy(folder, extensions, destFolder):\n",
    "    folder = os.path.abspath(folder)\n",
    "    destFolder = os.path.abspath(destFolder)\n",
    "    print('Looking in', folder, 'for files with extensions of', ', '.join(extensions))\n",
    "    for foldername, subfolders, filenames in os.walk(folder):\n",
    "        for filename in filenames:\n",
    "            name, extension = os.path.splitext(filename)\n",
    "            if extension in extensions:\n",
    "                fileAbsPath = foldername + os.path.sep + filename\n",
    "                print('Coping', fileAbsPath, 'to', destFolder)\n",
    "                shutil.copy(fileAbsPath, destFolder)"
   ]
  },
  {
   "cell_type": "code",
   "execution_count": 2,
   "metadata": {},
   "outputs": [],
   "source": [
    "os.chdir(\"C:\\\\Users\\\\kalya\\\\Jupyter Notebooks\\\\one neuron\\\\\")"
   ]
  },
  {
   "cell_type": "code",
   "execution_count": 3,
   "metadata": {},
   "outputs": [
    {
     "data": {
      "text/plain": [
       "'C:\\\\Users\\\\kalya\\\\Jupyter Notebooks\\\\one neuron'"
      ]
     },
     "execution_count": 3,
     "metadata": {},
     "output_type": "execute_result"
    }
   ],
   "source": [
    "os.getcwd()"
   ]
  },
  {
   "cell_type": "code",
   "execution_count": 4,
   "metadata": {},
   "outputs": [],
   "source": [
    "extensions = ['.pdf', '.jpg']\n",
    "folder = 'Assignments'\n",
    "destFolder = 'destination'"
   ]
  },
  {
   "cell_type": "code",
   "execution_count": 5,
   "metadata": {},
   "outputs": [
    {
     "data": {
      "text/plain": [
       "['.ipynb_checkpoints',\n",
       " 'images.jpg',\n",
       " 'img2.jpg',\n",
       " 'main_folder',\n",
       " 'panda.jpg',\n",
       " 'samplepdf.pdf',\n",
       " '_10_Assignment.ipynb',\n",
       " '_1_Assignment.ipynb',\n",
       " '_2_Assignment.ipynb',\n",
       " '_3_Assignment.ipynb',\n",
       " '_4_Assignment.ipynb',\n",
       " '_5_Assignment.ipynb',\n",
       " '_6_Assignment.ipynb',\n",
       " '_7_Assignment.ipynb',\n",
       " '_8_Assignment.ipynb',\n",
       " '_9_Assignment .ipynb']"
      ]
     },
     "execution_count": 5,
     "metadata": {},
     "output_type": "execute_result"
    }
   ],
   "source": [
    "import os\n",
    "os.listdir(r\"C:\\Users\\kalya\\Jupyter Notebooks\\one neuron\\Assignments\")"
   ]
  },
  {
   "cell_type": "code",
   "execution_count": 6,
   "metadata": {},
   "outputs": [
    {
     "name": "stdout",
     "output_type": "stream",
     "text": [
      "Looking in C:\\Users\\kalya\\Jupyter Notebooks\\one neuron\\Assignments for files with extensions of .pdf, .jpg\n",
      "Coping C:\\Users\\kalya\\Jupyter Notebooks\\one neuron\\Assignments\\images.jpg to C:\\Users\\kalya\\Jupyter Notebooks\\one neuron\\destination\n",
      "Coping C:\\Users\\kalya\\Jupyter Notebooks\\one neuron\\Assignments\\img2.jpg to C:\\Users\\kalya\\Jupyter Notebooks\\one neuron\\destination\n",
      "Coping C:\\Users\\kalya\\Jupyter Notebooks\\one neuron\\Assignments\\panda.jpg to C:\\Users\\kalya\\Jupyter Notebooks\\one neuron\\destination\n",
      "Coping C:\\Users\\kalya\\Jupyter Notebooks\\one neuron\\Assignments\\samplepdf.pdf to C:\\Users\\kalya\\Jupyter Notebooks\\one neuron\\destination\n"
     ]
    }
   ],
   "source": [
    "selectiveCopy(folder, extensions, destFolder)"
   ]
  },
  {
   "cell_type": "code",
   "execution_count": 8,
   "metadata": {},
   "outputs": [
    {
     "data": {
      "text/plain": [
       "['images.jpg', 'img2.jpg', 'panda.jpg', 'samplepdf.pdf']"
      ]
     },
     "execution_count": 8,
     "metadata": {},
     "output_type": "execute_result"
    }
   ],
   "source": [
    "os.listdir(r\"C:\\Users\\kalya\\Jupyter Notebooks\\one neuron\\destination\")"
   ]
  },
  {
   "cell_type": "code",
   "execution_count": null,
   "metadata": {},
   "outputs": [],
   "source": []
  }
 ],
 "metadata": {
  "kernelspec": {
   "display_name": "Python 3",
   "language": "python",
   "name": "python3"
  },
  "language_info": {
   "codemirror_mode": {
    "name": "ipython",
    "version": 3
   },
   "file_extension": ".py",
   "mimetype": "text/x-python",
   "name": "python",
   "nbconvert_exporter": "python",
   "pygments_lexer": "ipython3",
   "version": "3.8.3"
  }
 },
 "nbformat": 4,
 "nbformat_minor": 4
}
