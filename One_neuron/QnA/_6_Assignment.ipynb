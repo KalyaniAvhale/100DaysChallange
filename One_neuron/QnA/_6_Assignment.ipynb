{
 "cells": [
  {
   "cell_type": "markdown",
   "metadata": {},
   "source": [
    "# Assignment : 6 "
   ]
  },
  {
   "cell_type": "markdown",
   "metadata": {},
   "source": [
    "  "
   ]
  },
  {
   "cell_type": "markdown",
   "metadata": {},
   "source": [
    "#### 1. What are escape characters, and how do you use them?\n",
    "**Ans:** To use illegal chars such as quotes , backslash in strings , we use escape character(\\).\n",
    "\n",
    "Example :"
   ]
  },
  {
   "cell_type": "code",
   "execution_count": 11,
   "metadata": {},
   "outputs": [
    {
     "ename": "SyntaxError",
     "evalue": "invalid syntax (<ipython-input-11-ee24420cb34a>, line 1)",
     "output_type": "error",
     "traceback": [
      "\u001b[1;36m  File \u001b[1;32m\"<ipython-input-11-ee24420cb34a>\"\u001b[1;36m, line \u001b[1;32m1\u001b[0m\n\u001b[1;33m    string = \"Harriet Jacobs writes, \"She sat down, quivering in every limb\"\"\u001b[0m\n\u001b[1;37m                                      ^\u001b[0m\n\u001b[1;31mSyntaxError\u001b[0m\u001b[1;31m:\u001b[0m invalid syntax\n"
     ]
    }
   ],
   "source": [
    "#string = \"Harriet Jacobs writes, \"She sat down, quivering in every limb\"\" \n",
    "#print(string) #throws error invalid syntax"
   ]
  },
  {
   "cell_type": "code",
   "execution_count": 12,
   "metadata": {},
   "outputs": [
    {
     "name": "stdout",
     "output_type": "stream",
     "text": [
      "Harriet Jacobs writes, \"She sat down, quivering in every limb\"\n"
     ]
    }
   ],
   "source": [
    "#using escape characters\n",
    "string = \"Harriet Jacobs writes, \\\"She sat down, quivering in every limb\\\"\" \n",
    "print(string)"
   ]
  },
  {
   "cell_type": "markdown",
   "metadata": {},
   "source": [
    "  "
   ]
  },
  {
   "cell_type": "markdown",
   "metadata": {},
   "source": [
    "#### 2. What do the escape characters n and t stand for?\n",
    "**Ans:** \\n and \\t stands for newline and tab respectively\n",
    "\n",
    "Example:"
   ]
  },
  {
   "cell_type": "code",
   "execution_count": 2,
   "metadata": {},
   "outputs": [
    {
     "name": "stdout",
     "output_type": "stream",
     "text": [
      "Hi Jon,\n",
      "\tHope you are doing well\n"
     ]
    }
   ],
   "source": [
    "print(\"Hi Jon,\\n\\tHope you are doing well\")"
   ]
  },
  {
   "cell_type": "markdown",
   "metadata": {},
   "source": [
    " "
   ]
  },
  {
   "cell_type": "markdown",
   "metadata": {},
   "source": [
    "####  3. What is the way to include backslash characters in a string?\n",
    "**Ans:** '\\' backslash can be included using escape charater (\\) and backslash \n",
    "\n",
    "Example : \"some text \\\\ some text\" >> \"some text \\ some text\""
   ]
  },
  {
   "cell_type": "code",
   "execution_count": 3,
   "metadata": {},
   "outputs": [
    {
     "name": "stdout",
     "output_type": "stream",
     "text": [
      "Example to include \\ in string\n"
     ]
    }
   ],
   "source": [
    "s = \"Example to include \\\\ in string\"\n",
    "print(s)"
   ]
  },
  {
   "cell_type": "markdown",
   "metadata": {},
   "source": [
    "  "
   ]
  },
  {
   "cell_type": "markdown",
   "metadata": {},
   "source": [
    "#### 4. The string \"Howl's Moving Castle\" is a correct value. Why isn't the single quote character in the word Howl's not escaped a problem?\n",
    "**Ans:** The single quote in Howl's is fine because we have used double quotes to mark the beginning and end of the string."
   ]
  },
  {
   "cell_type": "code",
   "execution_count": 4,
   "metadata": {},
   "outputs": [
    {
     "data": {
      "text/plain": [
       "\"Howl's Moving Castle\""
      ]
     },
     "execution_count": 4,
     "metadata": {},
     "output_type": "execute_result"
    }
   ],
   "source": [
    "\"Howl's Moving Castle\""
   ]
  },
  {
   "cell_type": "markdown",
   "metadata": {},
   "source": [
    " "
   ]
  },
  {
   "cell_type": "markdown",
   "metadata": {},
   "source": [
    "#### 5. How do you write a string of newlines if you don't want to use the n character?\n",
    "\n",
    "**Ans:** Triple single quotes or double quotes can be used to write string of newlines.\n",
    "\n",
    "Example:"
   ]
  },
  {
   "cell_type": "code",
   "execution_count": 5,
   "metadata": {},
   "outputs": [
    {
     "name": "stdout",
     "output_type": "stream",
     "text": [
      "This is new lines example\n",
      "without use of escape character.\n",
      "End\n",
      "\n"
     ]
    }
   ],
   "source": [
    "t = '''This is new lines example\n",
    "without use of escape character.\n",
    "End\n",
    "'''\n",
    "print(t)"
   ]
  },
  {
   "cell_type": "markdown",
   "metadata": {},
   "source": [
    "#### 6. What are the values of the given expressions?\n",
    "<pre>\n",
    "'Hello, world!'[1]\n",
    "'Hello, world!'[0:5]\n",
    "'Hello, world!'[:5]\n",
    "'Hello, world!'[3:]\n",
    "</pre>\n",
    "**Ans:**"
   ]
  },
  {
   "cell_type": "code",
   "execution_count": 6,
   "metadata": {},
   "outputs": [
    {
     "name": "stdout",
     "output_type": "stream",
     "text": [
      "e\n",
      "Hello\n",
      "Hello\n",
      "lo, world!\n"
     ]
    }
   ],
   "source": [
    "print('Hello, world!'[1])\n",
    "print('Hello, world!'[0:5])\n",
    "print('Hello, world!'[:5])\n",
    "print('Hello, world!'[3:])"
   ]
  },
  {
   "cell_type": "markdown",
   "metadata": {},
   "source": [
    "#### 7. What are the values of the following expressions?\n",
    "<pre>\n",
    "'Hello'.upper()\n",
    "'Hello'.upper().isupper()\n",
    "'Hello'.upper().lower()\n",
    "</pre>\n",
    "**Ans:**"
   ]
  },
  {
   "cell_type": "code",
   "execution_count": 7,
   "metadata": {},
   "outputs": [
    {
     "name": "stdout",
     "output_type": "stream",
     "text": [
      "HELLO\n",
      "True\n",
      "hello\n"
     ]
    }
   ],
   "source": [
    "print('Hello'.upper())\n",
    "print('Hello'.upper().isupper())\n",
    "print('Hello'.upper().lower())\n"
   ]
  },
  {
   "cell_type": "markdown",
   "metadata": {},
   "source": [
    "#### 8. What are the values of the following expressions?\n",
    "<pre>\n",
    "'Remember, remember, the fifth of July.'.split()\n",
    "'-'.join('There can only one.'.split())\n",
    "</pre>\n",
    "**Ans:**"
   ]
  },
  {
   "cell_type": "code",
   "execution_count": 8,
   "metadata": {},
   "outputs": [
    {
     "name": "stdout",
     "output_type": "stream",
     "text": [
      "['Remember,', 'remember,', 'the', 'fifth', 'of', 'July.']\n",
      "There-can-only-one.\n"
     ]
    }
   ],
   "source": [
    "print('Remember, remember, the fifth of July.'.split())\n",
    "print('-'.join('There can only one.'.split()))"
   ]
  },
  {
   "cell_type": "markdown",
   "metadata": {},
   "source": [
    "#### 9. What are the methods for right-justifying, left-justifying, and centering a string?\n",
    "**Ans:** The rjust() and ljust() string methods return a padded version of the string they are called on, with spaces or other character inserted to justify the text. The center() string method works like ljust() and rjust() but centers the text rather than justifying it to the left or right.\n",
    "\n",
    "Example:"
   ]
  },
  {
   "cell_type": "code",
   "execution_count": 9,
   "metadata": {},
   "outputs": [
    {
     "name": "stdout",
     "output_type": "stream",
     "text": [
      "  123\n",
      "123  \n",
      " 123 \n"
     ]
    }
   ],
   "source": [
    "text = '123'\n",
    "print(text.rjust(5,' '))\n",
    "print(text.ljust(5,' '))\n",
    "print(text.center(5,' '))"
   ]
  },
  {
   "cell_type": "markdown",
   "metadata": {},
   "source": [
    "#### 10. What is the best way to remove whitespace characters from the start or end?\n",
    "**Ans:** strip() can be used to remove whitespace at start and end of string and similarly lstrip() or rstrip() can be used to remove whitespace on left and right respectively."
   ]
  },
  {
   "cell_type": "code",
   "execution_count": 10,
   "metadata": {},
   "outputs": [
    {
     "name": "stdout",
     "output_type": "stream",
     "text": [
      "Hello WOrld !!\n",
      "Hello WOrld !!   \n",
      "   Hello WOrld !!\n"
     ]
    }
   ],
   "source": [
    "text = \"   Hello WOrld !!   \"\n",
    "print(text.strip())\n",
    "\n",
    "print(text.lstrip())\n",
    "print(text.rstrip())"
   ]
  },
  {
   "cell_type": "code",
   "execution_count": null,
   "metadata": {},
   "outputs": [],
   "source": []
  }
 ],
 "metadata": {
  "kernelspec": {
   "display_name": "Python 3",
   "language": "python",
   "name": "python3"
  },
  "language_info": {
   "codemirror_mode": {
    "name": "ipython",
    "version": 3
   },
   "file_extension": ".py",
   "mimetype": "text/x-python",
   "name": "python",
   "nbconvert_exporter": "python",
   "pygments_lexer": "ipython3",
   "version": "3.8.3"
  }
 },
 "nbformat": 4,
 "nbformat_minor": 4
}
