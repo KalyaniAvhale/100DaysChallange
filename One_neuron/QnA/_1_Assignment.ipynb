{
 "cells": [
  {
   "cell_type": "markdown",
   "metadata": {},
   "source": [
    "# Assignment : 1"
   ]
  },
  {
   "cell_type": "markdown",
   "metadata": {},
   "source": [
    "#### 1. In the below elements which of them are values or an expression? eg:- values can be integer or string and expressions will be mathematical operators.\n",
    "\n",
    "<pre>\n",
    "*\n",
    "'hello' \n",
    "-87.8\n",
    "- \n",
    "/ \n",
    "+\t\n",
    "6 </pre>\n",
    "\n",
    "**ANS:** \n",
    "    Values : ‘hello’ , ‘-87.8’ , 6 \n",
    "    Operators : *,-,/,+\n"
   ]
  },
  {
   "cell_type": "markdown",
   "metadata": {},
   "source": [
    " "
   ]
  },
  {
   "cell_type": "markdown",
   "metadata": {},
   "source": [
    "#### 2. What is the difference between string and variable?\n",
    "\n",
    "**ANS:** \n",
    "Variable is used to store information and string is type of information we can store in a variable. \n",
    "String is a sequence of characters which can be numbers, alphabets or special characters enclosed within quotes. Example - “HELLO”,”123”, or “2022ABC”.\n",
    "\n",
    "Variable is a memory location which has some name associated with the location and can hold any set of values such as numbers, strings, etc. Example- A = 10, greet = “HELLO”. A and greet are variables holding number 10 and “HELLO” text respectively."
   ]
  },
  {
   "cell_type": "markdown",
   "metadata": {},
   "source": [
    " "
   ]
  },
  {
   "cell_type": "markdown",
   "metadata": {},
   "source": [
    "#### 3. Describe three different data types.\n",
    "\n",
    "**ANS:**\n",
    "\n",
    "1.\tNumeric Data type – Data type that stores numeric values. Numeric values can be in integer, floating or complex numbers. (eg. 10, 2.5, -11)\n",
    "2.\tString – String stores a sequence of characters. Character can be alphabet, number or symbol. String values are enclosed in quotes (eg. “HELLO”) \n",
    "3.\tList – List type is used to store multiple items in a single variable. (eg. [“apple”,”banana”,”guava”]\n"
   ]
  },
  {
   "cell_type": "markdown",
   "metadata": {},
   "source": [
    " "
   ]
  },
  {
   "cell_type": "markdown",
   "metadata": {},
   "source": [
    "#### 4. What is an expression made up of? What do all expressions do?\n",
    "\n",
    "**ANS:** \n",
    "Combination of values and operators formas an expression. Expressions are used to evaluate results from given numbers usning the operators.\n",
    "    <br>Example : <br>\n",
    "2 + 3 = 5 here , <br>\n",
    "2 + 3 forms expression which is combination of values( 2,3 ) and operator (+) evaluating 5 as result/outcome of addition operation."
   ]
  },
  {
   "cell_type": "markdown",
   "metadata": {},
   "source": [
    "  "
   ]
  },
  {
   "cell_type": "markdown",
   "metadata": {},
   "source": [
    "#### 5. This assignment statements, like spam = 10. What is the difference between an expression and a statement?\n",
    "\n",
    "Expressions which is combination of operators and values always evaluates down to some values . Statement will be used to create variables and display value.Statements can be Assignment statement, print statement, etc\n",
    "\n",
    "Expressions are interpreted by compiler or interpretur to perform some action while statement is just an command which does not return any results."
   ]
  },
  {
   "cell_type": "markdown",
   "metadata": {},
   "source": [
    " "
   ]
  },
  {
   "cell_type": "markdown",
   "metadata": {},
   "source": [
    "#### 6. After running the following code, what does the variable bacon contain?\n",
    "bacon = 22\n",
    "bacon + 1\n",
    "\n",
    "**ANS** :\n",
    "<pre>\n",
    "After execution of code value returned would be 23 but , bacon variable will hold value 22 as with second statement bacon variable value is only incremented by 1 but not assigned back to variable. \n",
    "</pre>"
   ]
  },
  {
   "cell_type": "code",
   "execution_count": 1,
   "metadata": {},
   "outputs": [
    {
     "data": {
      "text/plain": [
       "23"
      ]
     },
     "execution_count": 1,
     "metadata": {},
     "output_type": "execute_result"
    }
   ],
   "source": [
    "bacon = 22\n",
    "bacon + 1"
   ]
  },
  {
   "cell_type": "code",
   "execution_count": 2,
   "metadata": {},
   "outputs": [
    {
     "data": {
      "text/plain": [
       "22"
      ]
     },
     "execution_count": 2,
     "metadata": {},
     "output_type": "execute_result"
    }
   ],
   "source": [
    "bacon"
   ]
  },
  {
   "cell_type": "markdown",
   "metadata": {},
   "source": [
    " "
   ]
  },
  {
   "cell_type": "markdown",
   "metadata": {},
   "source": [
    "#### 7. What should the values of the following two terms be?\n",
    "'spam' + 'spamspam'\n",
    "'spam' * 3\n",
    "\n",
    "**ANS**: \n",
    "Both the statements would give the same result as ‘spamspamspam’.<br>\n",
    "As in python arithmetic operators can be used for string manipulation so + operator is used to concatenate two strings and * operator is used for repetition and creates a new string with multiple copies of same string. so , \n",
    "1st term will reult in concatenation of two strings ('spamspamspam')<br>\n",
    "2nd term will reult in concatenation of string thrice ('spamspamspam')<br>\n",
    "</pre>"
   ]
  },
  {
   "cell_type": "code",
   "execution_count": 3,
   "metadata": {},
   "outputs": [
    {
     "data": {
      "text/plain": [
       "'spamspamspam'"
      ]
     },
     "execution_count": 3,
     "metadata": {},
     "output_type": "execute_result"
    }
   ],
   "source": [
    "'spam' + 'spamspam'"
   ]
  },
  {
   "cell_type": "code",
   "execution_count": 4,
   "metadata": {},
   "outputs": [
    {
     "data": {
      "text/plain": [
       "'spamspamspam'"
      ]
     },
     "execution_count": 4,
     "metadata": {},
     "output_type": "execute_result"
    }
   ],
   "source": [
    "'spam' * 3"
   ]
  },
  {
   "cell_type": "markdown",
   "metadata": {},
   "source": [
    " "
   ]
  },
  {
   "cell_type": "markdown",
   "metadata": {},
   "source": [
    "#### 8. Why is eggs a valid variable name while 100 is invalid?\n",
    "\n",
    "**ANS:**\n",
    "In python or any programming language provides few set of rules or naming convetions to name Variables.\n",
    "A variable name must start with a letter or the underscore character.<br>\n",
    "A variable name cannot start with a number.<br>\n",
    "A variable name can only contain alpha-numeric characters and underscores (A-z, 0-9, and _ )<br>\n",
    "        Thus, eggs is valid while 100 is invalid variable and will throw 'SyntaxError: cannot assign to literal'"
   ]
  },
  {
   "cell_type": "code",
   "execution_count": 5,
   "metadata": {},
   "outputs": [
    {
     "ename": "SyntaxError",
     "evalue": "cannot assign to literal (<ipython-input-5-a959e5c0b710>, line 2)",
     "output_type": "error",
     "traceback": [
      "\u001b[1;36m  File \u001b[1;32m\"<ipython-input-5-a959e5c0b710>\"\u001b[1;36m, line \u001b[1;32m2\u001b[0m\n\u001b[1;33m    100 = 12\u001b[0m\n\u001b[1;37m    ^\u001b[0m\n\u001b[1;31mSyntaxError\u001b[0m\u001b[1;31m:\u001b[0m cannot assign to literal\n"
     ]
    }
   ],
   "source": [
    "eggs = 12\n",
    "100 = 12"
   ]
  },
  {
   "cell_type": "markdown",
   "metadata": {},
   "source": [
    " "
   ]
  },
  {
   "cell_type": "markdown",
   "metadata": {},
   "source": [
    "#### 9. What three functions can be used to get the integer, floating-point number, or string version of a value?\n",
    "**ANS:**\n",
    "    \n",
    "    1. int() function can be used to get integer version of given number or string value . \n",
    "    Example : int('12') → 12 \n",
    "    2. str() function create a new string object from the given object. \n",
    "    Example : str([1,3]) → '[1,3]' or str(19) → '19\n",
    "    3. float() function convert a string or number to a floating point number. \n",
    "    Example : float(5) → 5.0 or float('1') → 1.0"
   ]
  },
  {
   "cell_type": "markdown",
   "metadata": {},
   "source": [
    " "
   ]
  },
  {
   "cell_type": "markdown",
   "metadata": {},
   "source": [
    "#### 10. Why does this expression cause an error? How can you fix it?\n",
    "'I have eaten ' + 99 + ' burritos.'\n",
    "\n",
    "**ANS** : \n",
    "Above expression will cause error as we cannot concatenate str and int values. Only strings can be concatenated to other string.\n",
    "<br>Correct form will be - \n",
    "\n",
    "    'I have eaten ' + '99' + ' burritos.' or 'I have eaten ' + str(99) + ' burritos.'"
   ]
  },
  {
   "cell_type": "code",
   "execution_count": null,
   "metadata": {},
   "outputs": [],
   "source": []
  }
 ],
 "metadata": {
  "kernelspec": {
   "display_name": "Python 3",
   "language": "python",
   "name": "python3"
  },
  "language_info": {
   "codemirror_mode": {
    "name": "ipython",
    "version": 3
   },
   "file_extension": ".py",
   "mimetype": "text/x-python",
   "name": "python",
   "nbconvert_exporter": "python",
   "pygments_lexer": "ipython3",
   "version": "3.8.3"
  }
 },
 "nbformat": 4,
 "nbformat_minor": 4
}
